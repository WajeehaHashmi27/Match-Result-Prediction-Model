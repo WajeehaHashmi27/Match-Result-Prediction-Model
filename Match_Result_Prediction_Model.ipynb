{
  "nbformat": 4,
  "nbformat_minor": 0,
  "metadata": {
    "colab": {
      "provenance": [],
      "include_colab_link": true
    },
    "kernelspec": {
      "name": "python3",
      "display_name": "Python 3"
    },
    "language_info": {
      "name": "python"
    }
  },
  "cells": [
    {
      "cell_type": "markdown",
      "metadata": {
        "id": "view-in-github",
        "colab_type": "text"
      },
      "source": [
        "<a href=\"https://colab.research.google.com/github/WajeehaHashmi27/Match-Result-Prediction-Model/blob/main/Match_Result_Prediction_Model.ipynb\" target=\"_parent\"><img src=\"https://colab.research.google.com/assets/colab-badge.svg\" alt=\"Open In Colab\"/></a>"
      ]
    },
    {
      "cell_type": "code",
      "execution_count": null,
      "metadata": {
        "colab": {
          "base_uri": "https://localhost:8080/"
        },
        "id": "O2UZ1zX9zuvJ",
        "outputId": "9d0f70a9-7555-403e-b779-a4f03e91c7e2"
      },
      "outputs": [
        {
          "output_type": "stream",
          "name": "stdout",
          "text": [
            "Drive already mounted at /content/drive/; to attempt to forcibly remount, call drive.mount(\"/content/drive/\", force_remount=True).\n"
          ]
        }
      ],
      "source": [
        "from google.colab import drive\n",
        "drive.mount('/content/drive/')"
      ]
    },
    {
      "cell_type": "code",
      "source": [
        "import pandas as pd\n",
        "\n",
        "path='/content/drive/MyDrive/Dataset.csv'"
      ],
      "metadata": {
        "id": "A0zgzxZG0Hdq"
      },
      "execution_count": null,
      "outputs": []
    },
    {
      "cell_type": "code",
      "source": [
        "df = pd.read_csv(path)\n",
        "if df.isnull().values.any():\n",
        "    df = df.dropna()\n",
        "    print(\"Missing values removed. Dataset is updated.\")\n",
        "else:\n",
        "    print(\"No missing values.\")\n",
        "\n",
        "print(df)\n",
        "\n",
        "output_file_path = \"/content/drive/MyDrive/updated-data.csv\"\n",
        "df.to_csv(output_file_path, index=False)\n",
        "print(\"Cleaned dataset saved to {output_file_path}.\")"
      ],
      "metadata": {
        "colab": {
          "base_uri": "https://localhost:8080/"
        },
        "id": "F-5Oo2v41gk-",
        "outputId": "66adaa57-0944-444a-8735-2f02fa246f0e"
      },
      "execution_count": null,
      "outputs": [
        {
          "output_type": "stream",
          "name": "stdout",
          "text": [
            "Missing values removed. Dataset is updated.\n",
            "     Unnamed: 0        Date      Team      Opponent  \\\n",
            "0             1  28/08/2006  Pakistan       England   \n",
            "1             2    2/2/2007  Pakistan  South Africa   \n",
            "2             3    2/9/2007  Pakistan    Bangladesh   \n",
            "3             4    4/9/2007  Pakistan         Kenya   \n",
            "4             5   12/9/2007  Pakistan      Scotland   \n",
            "..          ...         ...       ...           ...   \n",
            "197         198  22/09/2022  Pakistan       England   \n",
            "198         199  23/09/2022  Pakistan       England   \n",
            "199         200  25/09/2022  Pakistan       England   \n",
            "200         201  28/09/2022  Pakistan       England   \n",
            "201         202  30/09/2022  Pakistan       England   \n",
            "\n",
            "                         Ground Result  \n",
            "0       County Ground (Bristol)    YES  \n",
            "1             Wanderers Stadium     NO  \n",
            "2          Gymkhana Club Ground    YES  \n",
            "3          Gymkhana Club Ground    YES  \n",
            "4                     Kingsmead    YES  \n",
            "..                          ...    ...  \n",
            "197  National Stadium (Karachi)    YES  \n",
            "198  National Stadium (Karachi)     NO  \n",
            "199  National Stadium (Karachi)    YES  \n",
            "200             Gaddafi Stadium    YES  \n",
            "201             Gaddafi Stadium     NO  \n",
            "\n",
            "[197 rows x 6 columns]\n",
            "Cleaned dataset saved to {output_file_path}.\n"
          ]
        }
      ]
    },
    {
      "cell_type": "code",
      "source": [
        "df = pd.read_csv(\"/content/drive/MyDrive/updated-data.csv\")\n",
        "\n",
        "df = df.drop(\"Date\", axis=1)\n",
        "\n",
        "df.to_csv(\"/content/drive/MyDrive/updated-data.csv\", index=False)\n",
        "print(\"Date column dropped\")"
      ],
      "metadata": {
        "colab": {
          "base_uri": "https://localhost:8080/"
        },
        "id": "jtloksAG1pZt",
        "outputId": "ef0e932c-537e-4387-cfcb-bc9edcd6025a"
      },
      "execution_count": null,
      "outputs": [
        {
          "output_type": "stream",
          "name": "stdout",
          "text": [
            "Date column dropped\n"
          ]
        }
      ]
    },
    {
      "cell_type": "code",
      "source": [
        "df = pd.read_csv(\"/content/drive/MyDrive/updated-data.csv\")\n",
        "\n",
        "duplicate_rows = df.duplicated()\n",
        "# Print the duplicate rows\n",
        "print(\"Duplicate rows:\")\n",
        "print(df[duplicate_rows])\n",
        "# Remove duplicate rows\n",
        "df.drop_duplicates(inplace=True)\n",
        "\n",
        "df.to_csv(\"/content/drive/MyDrive/updated-data.csv\", index=False)\n",
        "\n",
        "print(\"Duplicate rows removed\")"
      ],
      "metadata": {
        "colab": {
          "base_uri": "https://localhost:8080/"
        },
        "id": "z0NFjo2F1sE6",
        "outputId": "b8d5bf24-0afa-444b-873a-dfaa67f8d67d"
      },
      "execution_count": null,
      "outputs": [
        {
          "output_type": "stream",
          "name": "stdout",
          "text": [
            "Duplicate rows:\n",
            "Empty DataFrame\n",
            "Columns: [Unnamed: 0, Team, Opponent, Ground, Result]\n",
            "Index: []\n",
            "Duplicate rows removed\n"
          ]
        }
      ]
    },
    {
      "cell_type": "code",
      "source": [
        "df = pd.read_csv(\"/content/drive/MyDrive/updated-data.csv\")\n",
        "\n",
        "# Standardize column values\n",
        "df[\"Team\"] = df[\"Team\"].str.lower().str.strip()\n",
        "df[\"Opponent\"] = df[\"Opponent\"].str.lower().str.strip()\n",
        "df[\"Ground\"] = df[\"Ground\"].str.lower().str.strip()\n",
        "df[\"Result\"] = df[\"Result\"].str.lower().str.strip()\n",
        "\n",
        "\n",
        "df.to_csv(\"/content/drive/MyDrive/updated-data.csv\", index=False)\n",
        "\n",
        "print(\"Updated CSV file saved successfully.\")"
      ],
      "metadata": {
        "colab": {
          "base_uri": "https://localhost:8080/"
        },
        "id": "BqFz6ovU1wb0",
        "outputId": "b6712297-7392-4237-a1e8-1bd33b51014a"
      },
      "execution_count": null,
      "outputs": [
        {
          "output_type": "stream",
          "name": "stdout",
          "text": [
            "Updated CSV file saved successfully.\n"
          ]
        }
      ]
    },
    {
      "cell_type": "code",
      "source": [
        "\n",
        "# Create a dataframe with the given data\n",
        "data = {\n",
        "    'Unnamed: 0': [1, 2, 3, 4, 5, 6, 7, 8, 9, 10, 11, 12, 13, 14, 15, 16],\n",
        "    'Team': ['pakistan', 'pakistan', 'pakistan', 'pakistan', 'pakistan', 'pakistan', 'pakistan', 'pakistan', 'pakistan', 'pakistan', 'pakistan', 'pakistan', 'pakistan', 'pakistan', 'pakistan', 'pakistan'],\n",
        "    'Opponent': ['england', 'south africa', 'bangladesh', 'kenya', 'scotland', 'india', 'sri lanka', 'australia', 'bangladesh', 'new zealand', 'india', 'bangladesh', 'canada', 'sri lanka', 'zimbabwe', 'sri lanka'],\n",
        "    'Ground': ['county ground (bristol)', 'wanderers stadium', 'gymkhana club ground', 'gymkhana club ground', 'kingsmead', 'kingsmead', 'wanderers stadium', 'wanderers stadium', 'newlands', 'newlands', 'wanderers stadium', 'national stadium (karachi)', 'maple leaf north - west ground', 'maple leaf north - west ground', 'maple leaf north - west ground', 'maple leaf north - west ground'],\n",
        "    'Result': ['yes', 'no', 'yes', 'yes', 'yes', 'no', 'yes', 'yes', 'yes', 'yes', 'no', 'yes', 'yes', 'yes', 'yes', 'no']\n",
        "}\n",
        "\n",
        "df = pd.DataFrame(data)\n",
        "\n",
        "# Specify the categorical columns\n",
        "categorical_columns = [\"Team\", \"Opponent\", \"Ground\"]\n",
        "\n",
        "# Perform one-hot encoding using get_dummies\n",
        "df_encoded = pd.get_dummies(df, columns=categorical_columns)\n",
        "\n",
        "# Print the encoded data\n",
        "print(df_encoded)\n",
        "print(\"Encoding completed successfully.\")\n"
      ],
      "metadata": {
        "colab": {
          "base_uri": "https://localhost:8080/"
        },
        "id": "h0PSTkce13uz",
        "outputId": "6249484b-1d90-461b-b049-4272b9922727"
      },
      "execution_count": null,
      "outputs": [
        {
          "output_type": "stream",
          "name": "stdout",
          "text": [
            "    Unnamed: 0 Result  Team_pakistan  Opponent_australia  Opponent_bangladesh  \\\n",
            "0            1    yes              1                   0                    0   \n",
            "1            2     no              1                   0                    0   \n",
            "2            3    yes              1                   0                    1   \n",
            "3            4    yes              1                   0                    0   \n",
            "4            5    yes              1                   0                    0   \n",
            "5            6     no              1                   0                    0   \n",
            "6            7    yes              1                   0                    0   \n",
            "7            8    yes              1                   1                    0   \n",
            "8            9    yes              1                   0                    1   \n",
            "9           10    yes              1                   0                    0   \n",
            "10          11     no              1                   0                    0   \n",
            "11          12    yes              1                   0                    1   \n",
            "12          13    yes              1                   0                    0   \n",
            "13          14    yes              1                   0                    0   \n",
            "14          15    yes              1                   0                    0   \n",
            "15          16     no              1                   0                    0   \n",
            "\n",
            "    Opponent_canada  Opponent_england  Opponent_india  Opponent_kenya  \\\n",
            "0                 0                 1               0               0   \n",
            "1                 0                 0               0               0   \n",
            "2                 0                 0               0               0   \n",
            "3                 0                 0               0               1   \n",
            "4                 0                 0               0               0   \n",
            "5                 0                 0               1               0   \n",
            "6                 0                 0               0               0   \n",
            "7                 0                 0               0               0   \n",
            "8                 0                 0               0               0   \n",
            "9                 0                 0               0               0   \n",
            "10                0                 0               1               0   \n",
            "11                0                 0               0               0   \n",
            "12                1                 0               0               0   \n",
            "13                0                 0               0               0   \n",
            "14                0                 0               0               0   \n",
            "15                0                 0               0               0   \n",
            "\n",
            "    Opponent_new zealand  ...  Opponent_south africa  Opponent_sri lanka  \\\n",
            "0                      0  ...                      0                   0   \n",
            "1                      0  ...                      1                   0   \n",
            "2                      0  ...                      0                   0   \n",
            "3                      0  ...                      0                   0   \n",
            "4                      0  ...                      0                   0   \n",
            "5                      0  ...                      0                   0   \n",
            "6                      0  ...                      0                   1   \n",
            "7                      0  ...                      0                   0   \n",
            "8                      0  ...                      0                   0   \n",
            "9                      1  ...                      0                   0   \n",
            "10                     0  ...                      0                   0   \n",
            "11                     0  ...                      0                   0   \n",
            "12                     0  ...                      0                   0   \n",
            "13                     0  ...                      0                   1   \n",
            "14                     0  ...                      0                   0   \n",
            "15                     0  ...                      0                   1   \n",
            "\n",
            "    Opponent_zimbabwe  Ground_county ground (bristol)  \\\n",
            "0                   0                               1   \n",
            "1                   0                               0   \n",
            "2                   0                               0   \n",
            "3                   0                               0   \n",
            "4                   0                               0   \n",
            "5                   0                               0   \n",
            "6                   0                               0   \n",
            "7                   0                               0   \n",
            "8                   0                               0   \n",
            "9                   0                               0   \n",
            "10                  0                               0   \n",
            "11                  0                               0   \n",
            "12                  0                               0   \n",
            "13                  0                               0   \n",
            "14                  1                               0   \n",
            "15                  0                               0   \n",
            "\n",
            "    Ground_gymkhana club ground  Ground_kingsmead  \\\n",
            "0                             0                 0   \n",
            "1                             0                 0   \n",
            "2                             1                 0   \n",
            "3                             1                 0   \n",
            "4                             0                 1   \n",
            "5                             0                 1   \n",
            "6                             0                 0   \n",
            "7                             0                 0   \n",
            "8                             0                 0   \n",
            "9                             0                 0   \n",
            "10                            0                 0   \n",
            "11                            0                 0   \n",
            "12                            0                 0   \n",
            "13                            0                 0   \n",
            "14                            0                 0   \n",
            "15                            0                 0   \n",
            "\n",
            "    Ground_maple leaf north - west ground  Ground_national stadium (karachi)  \\\n",
            "0                                       0                                  0   \n",
            "1                                       0                                  0   \n",
            "2                                       0                                  0   \n",
            "3                                       0                                  0   \n",
            "4                                       0                                  0   \n",
            "5                                       0                                  0   \n",
            "6                                       0                                  0   \n",
            "7                                       0                                  0   \n",
            "8                                       0                                  0   \n",
            "9                                       0                                  0   \n",
            "10                                      0                                  0   \n",
            "11                                      0                                  1   \n",
            "12                                      1                                  0   \n",
            "13                                      1                                  0   \n",
            "14                                      1                                  0   \n",
            "15                                      1                                  0   \n",
            "\n",
            "    Ground_newlands  Ground_wanderers stadium  \n",
            "0                 0                         0  \n",
            "1                 0                         1  \n",
            "2                 0                         0  \n",
            "3                 0                         0  \n",
            "4                 0                         0  \n",
            "5                 0                         0  \n",
            "6                 0                         1  \n",
            "7                 0                         1  \n",
            "8                 1                         0  \n",
            "9                 1                         0  \n",
            "10                0                         1  \n",
            "11                0                         0  \n",
            "12                0                         0  \n",
            "13                0                         0  \n",
            "14                0                         0  \n",
            "15                0                         0  \n",
            "\n",
            "[16 rows x 21 columns]\n",
            "Encoding completed successfully.\n"
          ]
        }
      ]
    },
    {
      "cell_type": "code",
      "source": [],
      "metadata": {
        "id": "i-kkVJJrVj1T"
      },
      "execution_count": null,
      "outputs": []
    },
    {
      "cell_type": "code",
      "source": [
        "import pandas as pd\n",
        "from sklearn.model_selection import train_test_split\n",
        "from sklearn.neighbors import KNeighborsClassifier\n",
        "from sklearn.metrics import accuracy_score\n",
        "from sklearn.utils import shuffle\n",
        "df = shuffle(df)\n",
        "\n",
        "df_encoded = pd.get_dummies(df, columns=categorical_columns)\n",
        "\n",
        "\n",
        "X = df_encoded.drop('Result', axis=1)\n",
        "y = df_encoded['Result']"
      ],
      "metadata": {
        "id": "H6eg8WqY15R0"
      },
      "execution_count": null,
      "outputs": []
    },
    {
      "cell_type": "code",
      "source": [
        "X_train, X_test, y_train, y_test = train_test_split(X, y, test_size=0.2, random_state=42)\n",
        "\n",
        "\n",
        "knn_classifier = KNeighborsClassifier()\n",
        "knn_classifier.fit(X_train, y_train)"
      ],
      "metadata": {
        "colab": {
          "base_uri": "https://localhost:8080/",
          "height": 74
        },
        "id": "rKjDdqoZ2BMD",
        "outputId": "93780f08-00e5-407c-9270-60f739c509c1"
      },
      "execution_count": null,
      "outputs": [
        {
          "output_type": "execute_result",
          "data": {
            "text/plain": [
              "KNeighborsClassifier()"
            ],
            "text/html": [
              "<style>#sk-container-id-1 {color: black;background-color: white;}#sk-container-id-1 pre{padding: 0;}#sk-container-id-1 div.sk-toggleable {background-color: white;}#sk-container-id-1 label.sk-toggleable__label {cursor: pointer;display: block;width: 100%;margin-bottom: 0;padding: 0.3em;box-sizing: border-box;text-align: center;}#sk-container-id-1 label.sk-toggleable__label-arrow:before {content: \"▸\";float: left;margin-right: 0.25em;color: #696969;}#sk-container-id-1 label.sk-toggleable__label-arrow:hover:before {color: black;}#sk-container-id-1 div.sk-estimator:hover label.sk-toggleable__label-arrow:before {color: black;}#sk-container-id-1 div.sk-toggleable__content {max-height: 0;max-width: 0;overflow: hidden;text-align: left;background-color: #f0f8ff;}#sk-container-id-1 div.sk-toggleable__content pre {margin: 0.2em;color: black;border-radius: 0.25em;background-color: #f0f8ff;}#sk-container-id-1 input.sk-toggleable__control:checked~div.sk-toggleable__content {max-height: 200px;max-width: 100%;overflow: auto;}#sk-container-id-1 input.sk-toggleable__control:checked~label.sk-toggleable__label-arrow:before {content: \"▾\";}#sk-container-id-1 div.sk-estimator input.sk-toggleable__control:checked~label.sk-toggleable__label {background-color: #d4ebff;}#sk-container-id-1 div.sk-label input.sk-toggleable__control:checked~label.sk-toggleable__label {background-color: #d4ebff;}#sk-container-id-1 input.sk-hidden--visually {border: 0;clip: rect(1px 1px 1px 1px);clip: rect(1px, 1px, 1px, 1px);height: 1px;margin: -1px;overflow: hidden;padding: 0;position: absolute;width: 1px;}#sk-container-id-1 div.sk-estimator {font-family: monospace;background-color: #f0f8ff;border: 1px dotted black;border-radius: 0.25em;box-sizing: border-box;margin-bottom: 0.5em;}#sk-container-id-1 div.sk-estimator:hover {background-color: #d4ebff;}#sk-container-id-1 div.sk-parallel-item::after {content: \"\";width: 100%;border-bottom: 1px solid gray;flex-grow: 1;}#sk-container-id-1 div.sk-label:hover label.sk-toggleable__label {background-color: #d4ebff;}#sk-container-id-1 div.sk-serial::before {content: \"\";position: absolute;border-left: 1px solid gray;box-sizing: border-box;top: 0;bottom: 0;left: 50%;z-index: 0;}#sk-container-id-1 div.sk-serial {display: flex;flex-direction: column;align-items: center;background-color: white;padding-right: 0.2em;padding-left: 0.2em;position: relative;}#sk-container-id-1 div.sk-item {position: relative;z-index: 1;}#sk-container-id-1 div.sk-parallel {display: flex;align-items: stretch;justify-content: center;background-color: white;position: relative;}#sk-container-id-1 div.sk-item::before, #sk-container-id-1 div.sk-parallel-item::before {content: \"\";position: absolute;border-left: 1px solid gray;box-sizing: border-box;top: 0;bottom: 0;left: 50%;z-index: -1;}#sk-container-id-1 div.sk-parallel-item {display: flex;flex-direction: column;z-index: 1;position: relative;background-color: white;}#sk-container-id-1 div.sk-parallel-item:first-child::after {align-self: flex-end;width: 50%;}#sk-container-id-1 div.sk-parallel-item:last-child::after {align-self: flex-start;width: 50%;}#sk-container-id-1 div.sk-parallel-item:only-child::after {width: 0;}#sk-container-id-1 div.sk-dashed-wrapped {border: 1px dashed gray;margin: 0 0.4em 0.5em 0.4em;box-sizing: border-box;padding-bottom: 0.4em;background-color: white;}#sk-container-id-1 div.sk-label label {font-family: monospace;font-weight: bold;display: inline-block;line-height: 1.2em;}#sk-container-id-1 div.sk-label-container {text-align: center;}#sk-container-id-1 div.sk-container {/* jupyter's `normalize.less` sets `[hidden] { display: none; }` but bootstrap.min.css set `[hidden] { display: none !important; }` so we also need the `!important` here to be able to override the default hidden behavior on the sphinx rendered scikit-learn.org. See: https://github.com/scikit-learn/scikit-learn/issues/21755 */display: inline-block !important;position: relative;}#sk-container-id-1 div.sk-text-repr-fallback {display: none;}</style><div id=\"sk-container-id-1\" class=\"sk-top-container\"><div class=\"sk-text-repr-fallback\"><pre>KNeighborsClassifier()</pre><b>In a Jupyter environment, please rerun this cell to show the HTML representation or trust the notebook. <br />On GitHub, the HTML representation is unable to render, please try loading this page with nbviewer.org.</b></div><div class=\"sk-container\" hidden><div class=\"sk-item\"><div class=\"sk-estimator sk-toggleable\"><input class=\"sk-toggleable__control sk-hidden--visually\" id=\"sk-estimator-id-1\" type=\"checkbox\" checked><label for=\"sk-estimator-id-1\" class=\"sk-toggleable__label sk-toggleable__label-arrow\">KNeighborsClassifier</label><div class=\"sk-toggleable__content\"><pre>KNeighborsClassifier()</pre></div></div></div></div></div>"
            ]
          },
          "metadata": {},
          "execution_count": 19
        }
      ]
    },
    {
      "cell_type": "markdown",
      "source": [],
      "metadata": {
        "id": "_VXfnv0EXN0T"
      }
    },
    {
      "cell_type": "code",
      "source": [
        "knn_predictions = knn_classifier.predict(X_test)\n",
        "\n",
        "\n",
        "knn_accuracy = accuracy_score(y_test, knn_predictions)\n",
        "\n",
        "print(\"KNN Accuracy:\", knn_accuracy)"
      ],
      "metadata": {
        "colab": {
          "base_uri": "https://localhost:8080/"
        },
        "id": "t2XYX3xW2Cmz",
        "outputId": "a634a7ca-239d-4200-9924-b1847688d235"
      },
      "execution_count": null,
      "outputs": [
        {
          "output_type": "stream",
          "name": "stdout",
          "text": [
            "KNN Accuracy: 0.5\n"
          ]
        }
      ]
    },
    {
      "cell_type": "code",
      "source": [
        "import pandas as pd\n",
        "from sklearn.model_selection import train_test_split\n",
        "from sklearn.naive_bayes import GaussianNB\n",
        "from sklearn.metrics import accuracy_score\n",
        "from sklearn.utils import shuffle\n",
        "df = shuffle(df)\n",
        "\n",
        "\n",
        "df_encoded = pd.get_dummies(df, columns=categorical_columns)\n",
        "\n",
        "\n",
        "X = df_encoded.drop('Result', axis=1)\n",
        "y = df_encoded['Result']\n"
      ],
      "metadata": {
        "id": "dJRA8MOa2JFP"
      },
      "execution_count": null,
      "outputs": []
    },
    {
      "cell_type": "code",
      "source": [
        "\n",
        "X_train, X_test, y_train, y_test = train_test_split(X, y, test_size=0.2, random_state=42)\n",
        "\n",
        "\n",
        "nb_classifier = GaussianNB()\n",
        "nb_classifier.fit(X_train, y_train)"
      ],
      "metadata": {
        "colab": {
          "base_uri": "https://localhost:8080/",
          "height": 74
        },
        "id": "zZ1VKu5u2KZi",
        "outputId": "a9447505-cc6d-40e8-cb89-b5ee38b51e6c"
      },
      "execution_count": null,
      "outputs": [
        {
          "output_type": "execute_result",
          "data": {
            "text/plain": [
              "GaussianNB()"
            ],
            "text/html": [
              "<style>#sk-container-id-2 {color: black;background-color: white;}#sk-container-id-2 pre{padding: 0;}#sk-container-id-2 div.sk-toggleable {background-color: white;}#sk-container-id-2 label.sk-toggleable__label {cursor: pointer;display: block;width: 100%;margin-bottom: 0;padding: 0.3em;box-sizing: border-box;text-align: center;}#sk-container-id-2 label.sk-toggleable__label-arrow:before {content: \"▸\";float: left;margin-right: 0.25em;color: #696969;}#sk-container-id-2 label.sk-toggleable__label-arrow:hover:before {color: black;}#sk-container-id-2 div.sk-estimator:hover label.sk-toggleable__label-arrow:before {color: black;}#sk-container-id-2 div.sk-toggleable__content {max-height: 0;max-width: 0;overflow: hidden;text-align: left;background-color: #f0f8ff;}#sk-container-id-2 div.sk-toggleable__content pre {margin: 0.2em;color: black;border-radius: 0.25em;background-color: #f0f8ff;}#sk-container-id-2 input.sk-toggleable__control:checked~div.sk-toggleable__content {max-height: 200px;max-width: 100%;overflow: auto;}#sk-container-id-2 input.sk-toggleable__control:checked~label.sk-toggleable__label-arrow:before {content: \"▾\";}#sk-container-id-2 div.sk-estimator input.sk-toggleable__control:checked~label.sk-toggleable__label {background-color: #d4ebff;}#sk-container-id-2 div.sk-label input.sk-toggleable__control:checked~label.sk-toggleable__label {background-color: #d4ebff;}#sk-container-id-2 input.sk-hidden--visually {border: 0;clip: rect(1px 1px 1px 1px);clip: rect(1px, 1px, 1px, 1px);height: 1px;margin: -1px;overflow: hidden;padding: 0;position: absolute;width: 1px;}#sk-container-id-2 div.sk-estimator {font-family: monospace;background-color: #f0f8ff;border: 1px dotted black;border-radius: 0.25em;box-sizing: border-box;margin-bottom: 0.5em;}#sk-container-id-2 div.sk-estimator:hover {background-color: #d4ebff;}#sk-container-id-2 div.sk-parallel-item::after {content: \"\";width: 100%;border-bottom: 1px solid gray;flex-grow: 1;}#sk-container-id-2 div.sk-label:hover label.sk-toggleable__label {background-color: #d4ebff;}#sk-container-id-2 div.sk-serial::before {content: \"\";position: absolute;border-left: 1px solid gray;box-sizing: border-box;top: 0;bottom: 0;left: 50%;z-index: 0;}#sk-container-id-2 div.sk-serial {display: flex;flex-direction: column;align-items: center;background-color: white;padding-right: 0.2em;padding-left: 0.2em;position: relative;}#sk-container-id-2 div.sk-item {position: relative;z-index: 1;}#sk-container-id-2 div.sk-parallel {display: flex;align-items: stretch;justify-content: center;background-color: white;position: relative;}#sk-container-id-2 div.sk-item::before, #sk-container-id-2 div.sk-parallel-item::before {content: \"\";position: absolute;border-left: 1px solid gray;box-sizing: border-box;top: 0;bottom: 0;left: 50%;z-index: -1;}#sk-container-id-2 div.sk-parallel-item {display: flex;flex-direction: column;z-index: 1;position: relative;background-color: white;}#sk-container-id-2 div.sk-parallel-item:first-child::after {align-self: flex-end;width: 50%;}#sk-container-id-2 div.sk-parallel-item:last-child::after {align-self: flex-start;width: 50%;}#sk-container-id-2 div.sk-parallel-item:only-child::after {width: 0;}#sk-container-id-2 div.sk-dashed-wrapped {border: 1px dashed gray;margin: 0 0.4em 0.5em 0.4em;box-sizing: border-box;padding-bottom: 0.4em;background-color: white;}#sk-container-id-2 div.sk-label label {font-family: monospace;font-weight: bold;display: inline-block;line-height: 1.2em;}#sk-container-id-2 div.sk-label-container {text-align: center;}#sk-container-id-2 div.sk-container {/* jupyter's `normalize.less` sets `[hidden] { display: none; }` but bootstrap.min.css set `[hidden] { display: none !important; }` so we also need the `!important` here to be able to override the default hidden behavior on the sphinx rendered scikit-learn.org. See: https://github.com/scikit-learn/scikit-learn/issues/21755 */display: inline-block !important;position: relative;}#sk-container-id-2 div.sk-text-repr-fallback {display: none;}</style><div id=\"sk-container-id-2\" class=\"sk-top-container\"><div class=\"sk-text-repr-fallback\"><pre>GaussianNB()</pre><b>In a Jupyter environment, please rerun this cell to show the HTML representation or trust the notebook. <br />On GitHub, the HTML representation is unable to render, please try loading this page with nbviewer.org.</b></div><div class=\"sk-container\" hidden><div class=\"sk-item\"><div class=\"sk-estimator sk-toggleable\"><input class=\"sk-toggleable__control sk-hidden--visually\" id=\"sk-estimator-id-2\" type=\"checkbox\" checked><label for=\"sk-estimator-id-2\" class=\"sk-toggleable__label sk-toggleable__label-arrow\">GaussianNB</label><div class=\"sk-toggleable__content\"><pre>GaussianNB()</pre></div></div></div></div></div>"
            ]
          },
          "metadata": {},
          "execution_count": 22
        }
      ]
    },
    {
      "cell_type": "code",
      "source": [
        "\n",
        "nb_predictions = nb_classifier.predict(X_test)\n",
        "\n",
        "\n",
        "nb_accuracy = accuracy_score(y_test, nb_predictions)\n",
        "\n",
        "print(\"Naive Bayes Accuracy:\", nb_accuracy)"
      ],
      "metadata": {
        "colab": {
          "base_uri": "https://localhost:8080/"
        },
        "id": "SwgnulwW2NXe",
        "outputId": "4d4bdf79-cf67-41bd-9680-cc474d1edaa8"
      },
      "execution_count": null,
      "outputs": [
        {
          "output_type": "stream",
          "name": "stdout",
          "text": [
            "Naive Bayes Accuracy: 0.75\n"
          ]
        }
      ]
    },
    {
      "cell_type": "code",
      "source": [
        "import pandas as pd\n",
        "from sklearn.model_selection import train_test_split\n",
        "from sklearn.tree import DecisionTreeClassifier\n",
        "from sklearn.metrics import accuracy_score\n",
        "from sklearn.utils import shuffle\n",
        "df = shuffle(df)\n",
        "\n",
        "df_encoded = pd.get_dummies(df, columns=categorical_columns)\n",
        "\n",
        "X = df_encoded.drop('Result', axis=1)\n",
        "y = df_encoded['Result']"
      ],
      "metadata": {
        "id": "a6NXp5VK2ST5",
        "colab": {
          "base_uri": "https://localhost:8080/",
          "height": 235
        },
        "outputId": "97d171f6-fd52-4cd9-8f7d-3d9c98f986da"
      },
      "execution_count": null,
      "outputs": [
        {
          "output_type": "error",
          "ename": "NameError",
          "evalue": "ignored",
          "traceback": [
            "\u001b[0;31m---------------------------------------------------------------------------\u001b[0m",
            "\u001b[0;31mNameError\u001b[0m                                 Traceback (most recent call last)",
            "\u001b[0;32m<ipython-input-2-cbbc297cffac>\u001b[0m in \u001b[0;36m<cell line: 6>\u001b[0;34m()\u001b[0m\n\u001b[1;32m      4\u001b[0m \u001b[0;32mfrom\u001b[0m \u001b[0msklearn\u001b[0m\u001b[0;34m.\u001b[0m\u001b[0mmetrics\u001b[0m \u001b[0;32mimport\u001b[0m \u001b[0maccuracy_score\u001b[0m\u001b[0;34m\u001b[0m\u001b[0;34m\u001b[0m\u001b[0m\n\u001b[1;32m      5\u001b[0m \u001b[0;32mfrom\u001b[0m \u001b[0msklearn\u001b[0m\u001b[0;34m.\u001b[0m\u001b[0mutils\u001b[0m \u001b[0;32mimport\u001b[0m \u001b[0mshuffle\u001b[0m\u001b[0;34m\u001b[0m\u001b[0;34m\u001b[0m\u001b[0m\n\u001b[0;32m----> 6\u001b[0;31m \u001b[0mdf\u001b[0m \u001b[0;34m=\u001b[0m \u001b[0mshuffle\u001b[0m\u001b[0;34m(\u001b[0m\u001b[0mdf\u001b[0m\u001b[0;34m)\u001b[0m\u001b[0;34m\u001b[0m\u001b[0;34m\u001b[0m\u001b[0m\n\u001b[0m\u001b[1;32m      7\u001b[0m \u001b[0;34m\u001b[0m\u001b[0m\n\u001b[1;32m      8\u001b[0m \u001b[0mdf_encoded\u001b[0m \u001b[0;34m=\u001b[0m \u001b[0mpd\u001b[0m\u001b[0;34m.\u001b[0m\u001b[0mget_dummies\u001b[0m\u001b[0;34m(\u001b[0m\u001b[0mdf\u001b[0m\u001b[0;34m,\u001b[0m \u001b[0mcolumns\u001b[0m\u001b[0;34m=\u001b[0m\u001b[0mcategorical_columns\u001b[0m\u001b[0;34m)\u001b[0m\u001b[0;34m\u001b[0m\u001b[0;34m\u001b[0m\u001b[0m\n",
            "\u001b[0;31mNameError\u001b[0m: name 'df' is not defined"
          ]
        }
      ]
    },
    {
      "cell_type": "code",
      "source": [
        "\n",
        "X_train, X_test, y_train, y_test = train_test_split(X, y, test_size=0.2, random_state=42)\n",
        "\n",
        "dt_classifier = DecisionTreeClassifier()\n",
        "dt_classifier.fit(X_train, y_train)\n",
        "tree = dt_classifier.tree_\n",
        "\n",
        "# Accessing the root node properties\n",
        "root_node = tree.nodes[0]\n",
        "feature_index = root_node.feature\n",
        "threshold = root_node.threshold\n",
        "left_child = root_node.left_child\n",
        "right_child = root_node.right_child\n",
        "\n",
        "# Printing root node properties\n",
        "print(\"Feature index of the root node:\", feature_index)\n",
        "print(\"Threshold value of the root node:\", threshold)\n",
        "print(\"Index of the left child node:\", left_child)\n",
        "print(\"Index of the right child node:\", right_child)"
      ],
      "metadata": {
        "colab": {
          "base_uri": "https://localhost:8080/",
          "height": 235
        },
        "id": "EjnHzmJI2czl",
        "outputId": "32c95105-5cb7-4792-9a37-c86c8c1ff966"
      },
      "execution_count": null,
      "outputs": [
        {
          "output_type": "error",
          "ename": "NameError",
          "evalue": "ignored",
          "traceback": [
            "\u001b[0;31m---------------------------------------------------------------------------\u001b[0m",
            "\u001b[0;31mNameError\u001b[0m                                 Traceback (most recent call last)",
            "\u001b[0;32m<ipython-input-1-787ed57d78ee>\u001b[0m in \u001b[0;36m<cell line: 1>\u001b[0;34m()\u001b[0m\n\u001b[0;32m----> 1\u001b[0;31m \u001b[0mX_train\u001b[0m\u001b[0;34m,\u001b[0m \u001b[0mX_test\u001b[0m\u001b[0;34m,\u001b[0m \u001b[0my_train\u001b[0m\u001b[0;34m,\u001b[0m \u001b[0my_test\u001b[0m \u001b[0;34m=\u001b[0m \u001b[0mtrain_test_split\u001b[0m\u001b[0;34m(\u001b[0m\u001b[0mX\u001b[0m\u001b[0;34m,\u001b[0m \u001b[0my\u001b[0m\u001b[0;34m,\u001b[0m \u001b[0mtest_size\u001b[0m\u001b[0;34m=\u001b[0m\u001b[0;36m0.2\u001b[0m\u001b[0;34m,\u001b[0m \u001b[0mrandom_state\u001b[0m\u001b[0;34m=\u001b[0m\u001b[0;36m42\u001b[0m\u001b[0;34m)\u001b[0m\u001b[0;34m\u001b[0m\u001b[0;34m\u001b[0m\u001b[0m\n\u001b[0m\u001b[1;32m      2\u001b[0m \u001b[0;34m\u001b[0m\u001b[0m\n\u001b[1;32m      3\u001b[0m \u001b[0mdt_classifier\u001b[0m \u001b[0;34m=\u001b[0m \u001b[0mDecisionTreeClassifier\u001b[0m\u001b[0;34m(\u001b[0m\u001b[0;34m)\u001b[0m\u001b[0;34m\u001b[0m\u001b[0;34m\u001b[0m\u001b[0m\n\u001b[1;32m      4\u001b[0m \u001b[0mdt_classifier\u001b[0m\u001b[0;34m.\u001b[0m\u001b[0mfit\u001b[0m\u001b[0;34m(\u001b[0m\u001b[0mX_train\u001b[0m\u001b[0;34m,\u001b[0m \u001b[0my_train\u001b[0m\u001b[0;34m)\u001b[0m\u001b[0;34m\u001b[0m\u001b[0;34m\u001b[0m\u001b[0m\n\u001b[1;32m      5\u001b[0m \u001b[0mtree\u001b[0m \u001b[0;34m=\u001b[0m \u001b[0mdt_classifier\u001b[0m\u001b[0;34m.\u001b[0m\u001b[0mtree_\u001b[0m\u001b[0;34m\u001b[0m\u001b[0;34m\u001b[0m\u001b[0m\n",
            "\u001b[0;31mNameError\u001b[0m: name 'train_test_split' is not defined"
          ]
        }
      ]
    },
    {
      "cell_type": "code",
      "source": [
        "\n",
        "dt_predictions = dt_classifier.predict(X_test)\n",
        "\n",
        "dt_accuracy = accuracy_score(y_test, dt_predictions)\n",
        "\n",
        "print(\"Decision Tree Accuracy:\", dt_accuracy)"
      ],
      "metadata": {
        "colab": {
          "base_uri": "https://localhost:8080/"
        },
        "id": "Jze0kgR02gDc",
        "outputId": "37127c75-475b-42a1-a83a-88a4963ace2b"
      },
      "execution_count": null,
      "outputs": [
        {
          "output_type": "stream",
          "name": "stdout",
          "text": [
            "Decision Tree Accuracy: 1.0\n"
          ]
        }
      ]
    },
    {
      "cell_type": "code",
      "source": [
        "import pandas as pd\n",
        "from sklearn.model_selection import train_test_split\n",
        "from sklearn.svm import SVC\n",
        "from sklearn.metrics import accuracy_score\n",
        "from sklearn.utils import shuffle\n",
        "df = shuffle(df)\n",
        "\n",
        "df_encoded = pd.get_dummies(df, columns=categorical_columns)\n",
        "\n",
        "X = df_encoded.drop('Result', axis=1)\n",
        "y = df_encoded['Result']"
      ],
      "metadata": {
        "id": "HLnCYoWT2l1n"
      },
      "execution_count": null,
      "outputs": []
    },
    {
      "cell_type": "code",
      "source": [
        "\n",
        "X_train, X_test, y_train, y_test = train_test_split(X, y, test_size=0.2, random_state=42)\n",
        "\n",
        "svm_classifier = SVC()\n",
        "svm_classifier.fit(X_train, y_train)"
      ],
      "metadata": {
        "colab": {
          "base_uri": "https://localhost:8080/",
          "height": 74
        },
        "id": "J7wNZoOk2pTz",
        "outputId": "ca1f2369-2f31-4eb5-bf03-da87932b6a99"
      },
      "execution_count": null,
      "outputs": [
        {
          "output_type": "execute_result",
          "data": {
            "text/plain": [
              "SVC()"
            ],
            "text/html": [
              "<style>#sk-container-id-4 {color: black;background-color: white;}#sk-container-id-4 pre{padding: 0;}#sk-container-id-4 div.sk-toggleable {background-color: white;}#sk-container-id-4 label.sk-toggleable__label {cursor: pointer;display: block;width: 100%;margin-bottom: 0;padding: 0.3em;box-sizing: border-box;text-align: center;}#sk-container-id-4 label.sk-toggleable__label-arrow:before {content: \"▸\";float: left;margin-right: 0.25em;color: #696969;}#sk-container-id-4 label.sk-toggleable__label-arrow:hover:before {color: black;}#sk-container-id-4 div.sk-estimator:hover label.sk-toggleable__label-arrow:before {color: black;}#sk-container-id-4 div.sk-toggleable__content {max-height: 0;max-width: 0;overflow: hidden;text-align: left;background-color: #f0f8ff;}#sk-container-id-4 div.sk-toggleable__content pre {margin: 0.2em;color: black;border-radius: 0.25em;background-color: #f0f8ff;}#sk-container-id-4 input.sk-toggleable__control:checked~div.sk-toggleable__content {max-height: 200px;max-width: 100%;overflow: auto;}#sk-container-id-4 input.sk-toggleable__control:checked~label.sk-toggleable__label-arrow:before {content: \"▾\";}#sk-container-id-4 div.sk-estimator input.sk-toggleable__control:checked~label.sk-toggleable__label {background-color: #d4ebff;}#sk-container-id-4 div.sk-label input.sk-toggleable__control:checked~label.sk-toggleable__label {background-color: #d4ebff;}#sk-container-id-4 input.sk-hidden--visually {border: 0;clip: rect(1px 1px 1px 1px);clip: rect(1px, 1px, 1px, 1px);height: 1px;margin: -1px;overflow: hidden;padding: 0;position: absolute;width: 1px;}#sk-container-id-4 div.sk-estimator {font-family: monospace;background-color: #f0f8ff;border: 1px dotted black;border-radius: 0.25em;box-sizing: border-box;margin-bottom: 0.5em;}#sk-container-id-4 div.sk-estimator:hover {background-color: #d4ebff;}#sk-container-id-4 div.sk-parallel-item::after {content: \"\";width: 100%;border-bottom: 1px solid gray;flex-grow: 1;}#sk-container-id-4 div.sk-label:hover label.sk-toggleable__label {background-color: #d4ebff;}#sk-container-id-4 div.sk-serial::before {content: \"\";position: absolute;border-left: 1px solid gray;box-sizing: border-box;top: 0;bottom: 0;left: 50%;z-index: 0;}#sk-container-id-4 div.sk-serial {display: flex;flex-direction: column;align-items: center;background-color: white;padding-right: 0.2em;padding-left: 0.2em;position: relative;}#sk-container-id-4 div.sk-item {position: relative;z-index: 1;}#sk-container-id-4 div.sk-parallel {display: flex;align-items: stretch;justify-content: center;background-color: white;position: relative;}#sk-container-id-4 div.sk-item::before, #sk-container-id-4 div.sk-parallel-item::before {content: \"\";position: absolute;border-left: 1px solid gray;box-sizing: border-box;top: 0;bottom: 0;left: 50%;z-index: -1;}#sk-container-id-4 div.sk-parallel-item {display: flex;flex-direction: column;z-index: 1;position: relative;background-color: white;}#sk-container-id-4 div.sk-parallel-item:first-child::after {align-self: flex-end;width: 50%;}#sk-container-id-4 div.sk-parallel-item:last-child::after {align-self: flex-start;width: 50%;}#sk-container-id-4 div.sk-parallel-item:only-child::after {width: 0;}#sk-container-id-4 div.sk-dashed-wrapped {border: 1px dashed gray;margin: 0 0.4em 0.5em 0.4em;box-sizing: border-box;padding-bottom: 0.4em;background-color: white;}#sk-container-id-4 div.sk-label label {font-family: monospace;font-weight: bold;display: inline-block;line-height: 1.2em;}#sk-container-id-4 div.sk-label-container {text-align: center;}#sk-container-id-4 div.sk-container {/* jupyter's `normalize.less` sets `[hidden] { display: none; }` but bootstrap.min.css set `[hidden] { display: none !important; }` so we also need the `!important` here to be able to override the default hidden behavior on the sphinx rendered scikit-learn.org. See: https://github.com/scikit-learn/scikit-learn/issues/21755 */display: inline-block !important;position: relative;}#sk-container-id-4 div.sk-text-repr-fallback {display: none;}</style><div id=\"sk-container-id-4\" class=\"sk-top-container\"><div class=\"sk-text-repr-fallback\"><pre>SVC()</pre><b>In a Jupyter environment, please rerun this cell to show the HTML representation or trust the notebook. <br />On GitHub, the HTML representation is unable to render, please try loading this page with nbviewer.org.</b></div><div class=\"sk-container\" hidden><div class=\"sk-item\"><div class=\"sk-estimator sk-toggleable\"><input class=\"sk-toggleable__control sk-hidden--visually\" id=\"sk-estimator-id-4\" type=\"checkbox\" checked><label for=\"sk-estimator-id-4\" class=\"sk-toggleable__label sk-toggleable__label-arrow\">SVC</label><div class=\"sk-toggleable__content\"><pre>SVC()</pre></div></div></div></div></div>"
            ]
          },
          "metadata": {},
          "execution_count": 28
        }
      ]
    },
    {
      "cell_type": "code",
      "source": [
        "svm_predictions = svm_classifier.predict(X_test)\n",
        "\n",
        "svm_accuracy = accuracy_score(y_test, svm_predictions)\n",
        "\n",
        "print(\"SVM Accuracy:\", svm_accuracy)"
      ],
      "metadata": {
        "colab": {
          "base_uri": "https://localhost:8080/"
        },
        "id": "rivkXbVg2qqj",
        "outputId": "52c8c2ff-b7dc-4b3a-9f5c-396e8a757c2e"
      },
      "execution_count": null,
      "outputs": [
        {
          "output_type": "stream",
          "name": "stdout",
          "text": [
            "SVM Accuracy: 0.5\n"
          ]
        }
      ]
    },
    {
      "cell_type": "code",
      "source": [
        "import matplotlib.pyplot as plt\n",
        "\n",
        "naive_bayes_predictions = nb_classifier.predict(X_test)\n",
        "knn_predictions = knn_classifier.predict(X_test)\n",
        "decision_tree_predictions = dt_classifier.predict(X_test)\n",
        "svm_predictions = svm_classifier.predict(X_test)"
      ],
      "metadata": {
        "id": "WEVkhoOh2wp8"
      },
      "execution_count": null,
      "outputs": []
    },
    {
      "cell_type": "code",
      "source": [
        "naive_bayes_accuracy = accuracy_score(y_test, naive_bayes_predictions)\n",
        "knn_accuracy = accuracy_score(y_test, knn_predictions)\n",
        "decision_tree_accuracy = accuracy_score(y_test, decision_tree_predictions)\n",
        "svm_accuracy = accuracy_score(y_test, svm_predictions)"
      ],
      "metadata": {
        "id": "Cy_3o8qe2ydG"
      },
      "execution_count": null,
      "outputs": []
    },
    {
      "cell_type": "code",
      "source": [
        "labels = ['Naive Bayes', 'KNN', 'Decision Tree', 'SVM']\n",
        "accuracies = [naive_bayes_accuracy, knn_accuracy, decision_tree_accuracy, svm_accuracy]"
      ],
      "metadata": {
        "id": "XZCWSIou217M"
      },
      "execution_count": null,
      "outputs": []
    },
    {
      "cell_type": "code",
      "source": [
        "plt.bar(labels, accuracies)\n",
        "plt.xlabel('Classifier')\n",
        "plt.ylabel('Accuracy')\n",
        "plt.title('Comparison of Classifier Accuracies')\n",
        "plt.ylim(0, 1)\n",
        "plt.show()"
      ],
      "metadata": {
        "id": "zPb0nu4l244-",
        "outputId": "984bd8cc-c46d-47bf-cff7-7be369016c2f",
        "colab": {
          "base_uri": "https://localhost:8080/",
          "height": 472
        }
      },
      "execution_count": null,
      "outputs": [
        {
          "output_type": "display_data",
          "data": {
            "text/plain": [
              "<Figure size 640x480 with 1 Axes>"
            ],
            "image/png": "[encoded data removed]"
          },
          "metadata": {}
        }
      ]
    },
    {
      "cell_type": "code",
      "source": [
        "import pandas as pd\n",
        "\n",
        "incoming_data = {\n",
        "    'Unnamed: 0': [1],\n",
        "    'Team': ['pakistan'],\n",
        "    'Opponent': ['australia'],\n",
        "    'Ground': ['county ground (bristol)']\n",
        "}\n",
        "\n",
        "df_incoming = pd.DataFrame(incoming_data)\n",
        "\n",
        "df_incoming_encoded = pd.get_dummies(df_incoming, columns=categorical_columns)\n",
        "\n",
        "df_incoming_aligned = df_incoming_encoded.reindex(columns=X.columns, fill_value=0)\n",
        "\n",
        "prediction = dt_classifier.predict(df_incoming_aligned)\n",
        "\n",
        "# Print the predicted label\n",
        "print(prediction)"
      ],
      "metadata": {
        "colab": {
          "base_uri": "https://localhost:8080/"
        },
        "id": "kdUJFugVxuS2",
        "outputId": "e87bc3eb-f9c1-4901-c7b7-6b56b046c9d6"
      },
      "execution_count": null,
      "outputs": [
        {
          "output_type": "stream",
          "name": "stdout",
          "text": [
            "['yes']\n"
          ]
        }
      ]
    },
    {
      "cell_type": "code",
      "source": [
        "import pandas as pd\n",
        "\n",
        "incoming_data = {\n",
        "    'Unnamed: 0': [1],\n",
        "    'Team': ['pakistan'],\n",
        "    'Opponent': ['india'],\n",
        "    'Ground': ['county ground (bristol)']\n",
        "}\n",
        "\n",
        "df_incoming = pd.DataFrame(incoming_data)\n",
        "\n",
        "df_incoming_encoded = pd.get_dummies(df_incoming, columns=categorical_columns)\n",
        "\n",
        "df_incoming_aligned = df_incoming_encoded.reindex(columns=X.columns, fill_value=0)\n",
        "\n",
        "prediction = dt_classifier.predict(df_incoming_aligned)\n",
        "\n",
        "# Print the predicted label\n",
        "print(prediction)"
      ],
      "metadata": {
        "colab": {
          "base_uri": "https://localhost:8080/"
        },
        "id": "EiMejlYpxwxj",
        "outputId": "96c60580-e9ee-4911-82b2-74ef1e4941ad"
      },
      "execution_count": null,
      "outputs": [
        {
          "output_type": "stream",
          "name": "stdout",
          "text": [
            "['no']\n"
          ]
        }
      ]
    }
  ]
}